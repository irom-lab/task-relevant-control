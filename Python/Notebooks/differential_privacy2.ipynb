{
 "cells": [
  {
   "cell_type": "code",
   "execution_count": 1,
   "metadata": {},
   "outputs": [],
   "source": [
    "import numpy as np\n",
    "import cvxpy as cvx"
   ]
  },
  {
   "cell_type": "code",
   "execution_count": 118,
   "metadata": {},
   "outputs": [],
   "source": [
    "def stationary_dist(transitions, input_given_state):\n",
    "    m, n = policy.shape\n",
    "    \n",
    "    P = np.zeros((n, n))\n",
    "\n",
    "    for i in range(n):\n",
    "        for j in range(n):\n",
    "            P[i, j] = np.sum(transitions[i, j, :] * policy[:, i])\n",
    "\n",
    "    w, v = np.linalg.eig(P.transpose())\n",
    "    stationary = v[:, w.argmax()]\n",
    "    stationary =  stationary / stationary.sum()\n",
    "\n",
    "def value_iter(costs, transitions, init_dist, discount=0.99, iters=100, verbose=False):\n",
    "    n, m = costs.shape\n",
    "    policy = np.zeros((m, n))\n",
    "    V = np.zeros(n)\n",
    "\n",
    "    for iter in range(iters):\n",
    "        transition_vals = transitions.sum(axis=1) * costs + discount * (transitions * V.reshape((1, n, 1))).sum(axis=1)\n",
    "\n",
    "        policy = np.zeros((m, n))\n",
    "        policy[transition_vals.argmin(axis=1), np.arange(n)] = 1\n",
    "        V = transition_vals.min(axis=1)\n",
    "\n",
    "        if verbose:\n",
    "            print(f'[{iter}] Obj Val: {V @ init_dist}')\n",
    "    \n",
    "    return V @ init_dist, V, policy\n",
    "\n",
    "def value_func(costs, transitions, policy, discount=0.99):\n",
    "    n, m = costs.shape\n",
    "    \n",
    "    P = np.zeros((n, n))\n",
    "    R = np.zeros(n)\n",
    "    \n",
    "    for i in range(n):\n",
    "        for j in range(n):\n",
    "            P[i, j] = np.sum(transitions[i, j, :] * policy[:, i])\n",
    "        R[i] = costs[i, :] @ policy[:, i]\n",
    "        \n",
    "    A = discount * P - np.eye(n)\n",
    "    b = -P.sum(axis=1) * R\n",
    "    \n",
    "    V = np.linalg.solve(A, b)\n",
    "    \n",
    "    return V\n",
    "\n",
    "def diff_priv_iter(costs, transitions, init_dist, privacy, discount=0.99, iters=100, verbose=False):\n",
    "    n, m = costs.shape\n",
    "\n",
    "    obj = np.zeros(iters)\n",
    "    \n",
    "    stationary = cvx.Parameter(n)\n",
    "    V_prev = cvx.Parameter(n, value=value_func(costs, transitions, policy, discount))\n",
    "    \n",
    "    policy = cvx.Variable((n, m))\n",
    "    \n",
    "    for iter in range(iters):\n",
    "        #V.value = value_func(costs, transitions, policy, iters, verbose)\n",
    "        stationary.value = stationary_dist(transitions, policy)\n",
    "        \n",
    "        V_next = \n",
    "        \n",
    "        cstr = [policy >= 0, cvx.sum(policy, 0) == 1]\n",
    "        \n",
    "        \n",
    "        "
   ]
  },
  {
   "cell_type": "code",
   "execution_count": 57,
   "metadata": {},
   "outputs": [],
   "source": [
    "n = 5\n",
    "m = 3\n",
    "\n",
    "goal = 2\n",
    "\n",
    "transitions = np.zeros((n, n, m))\n",
    "costs = np.ones((n, m))\n",
    "init_dist = np.array([0.25, 0.25, 0.25, 0.25, 0])\n",
    "\n",
    "\n",
    "transitions[0, 0, 0:1] = 1\n",
    "transitions[0, 1, 2] = 1\n",
    "\n",
    "for i in range(1, n - 1):\n",
    "    transitions[i, i - 1, 0] = 1\n",
    "    transitions[i, i, 1] = 1\n",
    "    transitions[i, i + 1, 2] = 1\n",
    "\n",
    "transitions[n - 1, n - 1, :] = 1\n",
    "\n",
    "costs[goal - 1, 2] = -1\n",
    "costs[goal, 1] = -1\n",
    "costs[goal + 1, 0] = -1\n"
   ]
  },
  {
   "cell_type": "code",
   "execution_count": 58,
   "metadata": {},
   "outputs": [
    {
     "data": {
      "text/plain": [
       "array([[ 1.,  1.,  1.],\n",
       "       [ 1.,  1., -1.],\n",
       "       [ 1., -1.,  1.],\n",
       "       [-1.,  1.,  1.],\n",
       "       [ 1.,  1.,  1.]])"
      ]
     },
     "execution_count": 58,
     "metadata": {},
     "output_type": "execute_result"
    }
   ],
   "source": [
    "costs"
   ]
  },
  {
   "cell_type": "code",
   "execution_count": 125,
   "metadata": {},
   "outputs": [],
   "source": [
    "obj, V, policy = value_iter(costs, transitions, init_dist, iters=10000)"
   ]
  },
  {
   "cell_type": "code",
   "execution_count": 126,
   "metadata": {},
   "outputs": [
    {
     "data": {
      "text/plain": [
       "array([ -98., -100., -100., -100.,  100.])"
      ]
     },
     "execution_count": 126,
     "metadata": {},
     "output_type": "execute_result"
    }
   ],
   "source": [
    "V"
   ]
  },
  {
   "cell_type": "code",
   "execution_count": 127,
   "metadata": {},
   "outputs": [
    {
     "data": {
      "text/plain": [
       "array([ -98., -100., -100., -100.,  100.])"
      ]
     },
     "execution_count": 127,
     "metadata": {},
     "output_type": "execute_result"
    }
   ],
   "source": [
    "value_func(costs, transitions, policy)"
   ]
  },
  {
   "cell_type": "code",
   "execution_count": 101,
   "metadata": {},
   "outputs": [
    {
     "data": {
      "text/plain": [
       "array([0., 0., 0., 0., 1.])"
      ]
     },
     "execution_count": 101,
     "metadata": {},
     "output_type": "execute_result"
    }
   ],
   "source": [
    "v[:, 4]"
   ]
  },
  {
   "cell_type": "code",
   "execution_count": null,
   "metadata": {},
   "outputs": [],
   "source": []
  }
 ],
 "metadata": {
  "kernelspec": {
   "display_name": "Python 3",
   "language": "python",
   "name": "python3"
  },
  "language_info": {
   "codemirror_mode": {
    "name": "ipython",
    "version": 3
   },
   "file_extension": ".py",
   "mimetype": "text/x-python",
   "name": "python",
   "nbconvert_exporter": "python",
   "pygments_lexer": "ipython3",
   "version": "3.7.0"
  }
 },
 "nbformat": 4,
 "nbformat_minor": 2
}
