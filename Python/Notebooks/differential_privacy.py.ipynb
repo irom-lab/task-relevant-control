{
 "cells": [
  {
   "cell_type": "code",
   "execution_count": 1,
   "metadata": {},
   "outputs": [],
   "source": [
    "import cvxpy as cvx\n",
    "import numpy as np"
   ]
  },
  {
   "cell_type": "code",
   "execution_count": 45,
   "metadata": {},
   "outputs": [],
   "source": [
    "n = 2\n",
    "m = 2\n",
    "p = 2\n",
    "\n",
    "costs = np.array([[1, 1.5], [1.5, 1]])\n",
    "state_given_output = np.array([[0.8, 0.2], [0.2, 0.8]])\n",
    "output_dist = np.array([0.5, 0.5])\n",
    "state_dist = np.array([0.25, 0.75])"
   ]
  },
  {
   "cell_type": "code",
   "execution_count": 46,
   "metadata": {},
   "outputs": [
    {
     "data": {
      "text/plain": [
       "1.125"
      ]
     },
     "execution_count": 46,
     "metadata": {},
     "output_type": "execute_result"
    }
   ],
   "source": [
    "input_given_state = cvx.Variable((m, n))\n",
    "input_dist = input_given_state @ state_dist\n",
    "\n",
    "\n",
    "obj = cvx.Minimize(cvx.sum(cvx.multiply(costs, state_dist.reshape((n, 1)) @ cvx.reshape(input_dist, (1, n)))))\n",
    "\n",
    "cstr = [input_given_state >= 0, cvx.sum(input_given_state, 0) == 1]\n",
    "\n",
    "prob = cvx.Problem(obj, cstr)\n",
    "prob.solve()"
   ]
  },
  {
   "cell_type": "code",
   "execution_count": 47,
   "metadata": {},
   "outputs": [],
   "source": [
    "policy = np.array([[1, 0], [0, 1]])"
   ]
  },
  {
   "cell_type": "code",
   "execution_count": 48,
   "metadata": {},
   "outputs": [
    {
     "data": {
      "text/plain": [
       "1.1875"
      ]
     },
     "execution_count": 48,
     "metadata": {},
     "output_type": "execute_result"
    }
   ],
   "source": [
    "input_dist = policy @ state_dist\n",
    "np.sum(np.multiply(costs, state_dist.reshape((n, 1)) @ np.reshape(input_dist, (1, n))))"
   ]
  },
  {
   "cell_type": "code",
   "execution_count": 49,
   "metadata": {},
   "outputs": [
    {
     "data": {
      "text/plain": [
       "array([[-3.02996929e-31, -9.09231527e-31],\n",
       "       [ 1.00000000e+00,  1.00000000e+00]])"
      ]
     },
     "execution_count": 49,
     "metadata": {},
     "output_type": "execute_result"
    }
   ],
   "source": [
    "input_given_state.value"
   ]
  },
  {
   "cell_type": "code",
   "execution_count": null,
   "metadata": {},
   "outputs": [],
   "source": []
  }
 ],
 "metadata": {
  "kernelspec": {
   "display_name": "Python 3",
   "language": "python",
   "name": "python3"
  },
  "language_info": {
   "codemirror_mode": {
    "name": "ipython",
    "version": 3
   },
   "file_extension": ".py",
   "mimetype": "text/x-python",
   "name": "python",
   "nbconvert_exporter": "python",
   "pygments_lexer": "ipython3",
   "version": "3.7.0"
  }
 },
 "nbformat": 4,
 "nbformat_minor": 2
}
