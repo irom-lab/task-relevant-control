{
 "cells": [
  {
   "cell_type": "code",
   "execution_count": 1,
   "metadata": {},
   "outputs": [],
   "source": [
    "import numpy as np\n",
    "import matplotlib.pyplot as plt\n",
    "import cvxpy as cvx"
   ]
  },
  {
   "cell_type": "markdown",
   "metadata": {},
   "source": [
    "The following variables are used as follows:\n",
    "- `trials` Number of $q$ distributions to sample.\n",
    "- `maps` Number of kernal maps $K$ to sample.\n",
    "- `n` Number of values taken by the random variable $X$.\n",
    "- `m` Number of values taken by the random variable $Y$."
   ]
  },
  {
   "cell_type": "code",
   "execution_count": 2,
   "metadata": {},
   "outputs": [],
   "source": [
    "trials = 100000\n",
    "maps = 5\n",
    "n = 3\n",
    "m = 3"
   ]
  },
  {
   "cell_type": "code",
   "execution_count": 3,
   "metadata": {},
   "outputs": [],
   "source": [
    "def mi(x: np.array, y_given_x: np.array) -> float:\n",
    "    '''\n",
    "    Computes the mutual information between random variables X, Y in the Markov Chain X -> Y.\n",
    "    '''\n",
    "    (n, m) = y_given_x.shape\n",
    "    y_x = y_given_x * x\n",
    "    y = np.sum(y_x, axis=1)\n",
    "    y.shape = (-1, 1)\n",
    "    return np.sum(y_x * np.log(y_x / (y.reshape((-1, 1)) * x)), axis=None)\n",
    "\n",
    "def kl(a: np.array, b: np.array) -> float:\n",
    "    '''\n",
    "    Computes the kl divergence between two distributions\n",
    "    '''\n",
    "    return np.sum(a * np.log(a / b), axis=None)\n",
    "\n",
    "def monotonize(arr: np.array) -> np.array:\n",
    "    '''\n",
    "    Given a set of data points {(x_k, y_k)}, this function returns a sequence\n",
    "    of the data that is monotone in both x and y. This sequence is constructed\n",
    "    following the steps:\n",
    "    \n",
    "    1. Sort data by x values.\n",
    "    2. Remove any data point with a y value that is not increasing.\n",
    "    '''\n",
    "    inds = np.argsort(kls[:, 0])\n",
    "    biggest = 0\n",
    "    ind = 0\n",
    "    mono = np.zeros_like(kls)\n",
    "\n",
    "    for i in range(inds.shape[0]):\n",
    "        if arr[inds[i], 1] >= biggest:\n",
    "            biggest = arr[inds[i], 1]\n",
    "            mono[ind, :] = arr[inds[i], :]\n",
    "            ind = ind + 1\n",
    "    \n",
    "    return mono\n",
    "\n",
    "def cc(channel: np.array) -> float:\n",
    "    '''\n",
    "    Computes the chanel capacity of a kernel.\n",
    "    '''\n",
    "    n, m = channel.shape\n",
    "    \n",
    "    x = cvx.Variable(n)\n",
    "    y = channel @ x\n",
    "    c = np.sum(channel * np.log2(channel), axis=0)\n",
    "    I = c * x + cvx.sum(cvx.entr(y))\n",
    "    \n",
    "    objective = cvx.Minimize(-I)\n",
    "    constraints = [cvx.sum(x) == 1, x >= 0]\n",
    "    problem = cvx.Problem(objective, constraints)\n",
    "    problem.solve()\n",
    "    \n",
    "    if problem.status == 'optimal':\n",
    "        return problem.value\n",
    "    else:\n",
    "        return np.nan"
   ]
  },
  {
   "cell_type": "markdown",
   "metadata": {},
   "source": [
    "The following cell tests the tightness of the bound\n",
    "$$D_{KL}(pK\\ \\|\\ qK) \\leq D_{KL}(p\\ \\|\\ q),$$\n",
    "where $p, q$ are probability measures and $K$ is a Markov kernel. To do so, we fix a randomly selected $K$ and $p$. Then, a test distribution is randomly selected for $q$ and the LHS and RHS of the above equation are computed. This process is repeated for `trials` different values of $q$, and the LHS values are ploted versus the RHS."
   ]
  },
  {
   "cell_type": "code",
   "execution_count": 8,
   "metadata": {},
   "outputs": [
    {
     "data": {
      "text/plain": [
       "Text(0,0.5,'D_{KL}(pK || qK)')"
      ]
     },
     "execution_count": 8,
     "metadata": {},
     "output_type": "execute_result"
    },
    {
     "data": {
      "image/png": "[encoded data removed]",
      "text/plain": [
       "<Figure size 432x288 with 1 Axes>"
      ]
     },
     "metadata": {},
     "output_type": "display_data"
    }
   ],
   "source": [
    "# np.random.seed(10)\n",
    "p = np.random.rand(n)\n",
    "p = p / np.sum(p)\n",
    "K = np.random.rand(m, n)\n",
    "K = K / np.sum(K, axis=0)\n",
    "pK = K @ p\n",
    "\n",
    "kls = np.zeros((trials, 2))\n",
    "\n",
    "for i in range(trials):\n",
    "    q = np.random.rand(n)\n",
    "    q = q / np.sum(q)\n",
    "    qK = K @ q\n",
    "\n",
    "    kls[i, 0] = kl(p, q)\n",
    "    kls[i, 1] = kl(pK, qK)\n",
    "\n",
    "plt.scatter(kls[:, 0], kls[:, 1])\n",
    "plt.plot([0, 5], [0, 5], '-r')\n",
    "plt.title('Mutual Info: {0}'.format(mi(p, K)))\n",
    "plt.ylim([0, 5 * kls[:, 1].max()])\n",
    "plt.xlim([0, 1.1 * kls[:, 0].max()])\n",
    "plt.xlabel('D_{KL}(p || q)')\n",
    "plt.ylabel('D_{KL}(pK || qK)')"
   ]
  },
  {
   "cell_type": "markdown",
   "metadata": {},
   "source": [
    "The following cells tests how the mutual information between $X$ and $Y$ in the Markov chain $X \\rightarrow Y$ impacts the contractivity of the KL-divergence. This is done by repeating the previous experiment for $maps$ different values of $K$ and plotting them together, along with the mutual information computed using $p$ and the channel capacity."
   ]
  },
  {
   "cell_type": "code",
   "execution_count": 10,
   "metadata": {},
   "outputs": [],
   "source": [
    "# np.random.seed(10)\n",
    "\n",
    "kls = np.zeros((trials, 2))\n",
    "mis = np.zeros(maps)\n",
    "caps = np.zeros_like(mis)\n",
    "mono = []\n",
    "\n",
    "p = np.random.rand(n)\n",
    "p = p / np.sum(p)\n",
    "\n",
    "for i in range(maps):\n",
    "    K = np.random.rand(m, n)\n",
    "    K = K / np.sum(K, axis=0)\n",
    "    pK = K @ p\n",
    "\n",
    "    for j in range(trials):\n",
    "        q = np.random.rand(n)\n",
    "        q = q / np.sum(q)\n",
    "        qK = K @ q\n",
    "\n",
    "        kls[j, 0] = kl(p, q)\n",
    "        kls[j, 1] = kl(pK, qK)\n",
    "    \n",
    "    mis[i] = mi(p, K)\n",
    "    caps[i] = cc(K)\n",
    "    mono.append(monotonize(kls))"
   ]
  },
  {
   "cell_type": "code",
   "execution_count": 11,
   "metadata": {},
   "outputs": [
    {
     "data": {
      "text/plain": [
       "Text(0,0.5,'D_{KL}(pK || qK)')"
      ]
     },
     "execution_count": 11,
     "metadata": {},
     "output_type": "execute_result"
    },
    {
     "data": {
      "image/png": "[encoded data removed]",
      "text/plain": [
       "<Figure size 432x288 with 2 Axes>"
      ]
     },
     "metadata": {},
     "output_type": "display_data"
    }
   ],
   "source": [
    "plt.subplot(2, 1, 1)\n",
    "\n",
    "inds = np.argsort(mis)\n",
    "\n",
    "for i in range(len(mono)):\n",
    "    scat = plt.scatter(mono[inds[i]][:, 0], mono[inds[i]][:, 1], label='MI: {:10.4f}'.format(mis[inds[i]]))\n",
    "\n",
    "plt.legend()\n",
    "plt.xlim([0, 1.1 * kls[:, 0].max()])\n",
    "plt.xlabel('D_{KL}(p || q)')\n",
    "plt.ylabel('D_{KL}(pK || qK)')\n",
    "\n",
    "\n",
    "plt.subplot(2, 1, 2)\n",
    "inds = np.argsort(caps)\n",
    "\n",
    "for i in range(len(mono)):\n",
    "    scat = plt.scatter(mono[inds[i]][:, 0], mono[inds[i]][:, 1], label='CC: {:10.4f}'.format(caps[inds[i]]))\n",
    "\n",
    "#plt.plot([0, 5], [0, 5], '-r')\n",
    "plt.legend(loc='best')\n",
    "#plt.ylim([0, 5 * kls[:, 1].max()])\n",
    "plt.xlim([0, 1.1 * kls[:, 0].max()])\n",
    "plt.xlabel('D_{KL}(p || q)')\n",
    "plt.ylabel('D_{KL}(pK || qK)')"
   ]
  },
  {
   "cell_type": "code",
   "execution_count": 5,
   "metadata": {},
   "outputs": [],
   "source": [
    "K = np.random.rand(2, 2)"
   ]
  },
  {
   "cell_type": "code",
   "execution_count": null,
   "metadata": {},
   "outputs": [],
   "source": []
  }
 ],
 "metadata": {
  "kernelspec": {
   "display_name": "Python 3",
   "language": "python",
   "name": "python3"
  },
  "language_info": {
   "codemirror_mode": {
    "name": "ipython",
    "version": 3
   },
   "file_extension": ".py",
   "mimetype": "text/x-python",
   "name": "python",
   "nbconvert_exporter": "python",
   "pygments_lexer": "ipython3",
   "version": "3.7.0"
  }
 },
 "nbformat": 4,
 "nbformat_minor": 2
}
